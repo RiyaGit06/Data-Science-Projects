{
 "cells": [
  {
   "cell_type": "code",
   "execution_count": null,
   "metadata": {},
   "outputs": [],
   "source": [
    "import cv2\n",
    "import os"
   ]
  },
  {
   "cell_type": "code",
   "execution_count": null,
   "metadata": {},
   "outputs": [],
   "source": [
    "def detectFace(net,frame,confidence_threshold=0.7):\n",
    "    frameOpencv = frame.copy()\n",
    "    frameHeight = frameOpencv.shape[0]\n",
    "    frameWidth = frameOpencv.shape[1]\n",
    "    blob = cv2.dnn.blobFromImage(frameOpencv,1.0,(227,227),[124.96,115.97,106.13],swapRB=True,crop=False)\n",
    "    net.setInput(blob)\n",
    "    detections = net.forward()\n",
    "    faceBoxes = []\n",
    "    for i in range(detections.shape[2]):\n",
    "        confidence = detections[0,0,i,2]\n",
    "        if confidence > confidence_threshold:\n",
    "            x1 = int(detections[0,0,i,3]*frameWidth)\n",
    "            y1 = int(detections[0,0,i,4]*frameHeight)\n",
    "            x2 = int(detections[0,0,i,5]*frameWidth)\n",
    "            y2 = int(detections[0,0,i,6]*frameHeight)\n",
    "            faceBoxes.append([x1,y1,x2,y2])\n",
    "            cv2.rectangle(frameOpencv,(x1,y1),(x2,y2),(0,255,0),int(round(frameHeight/150)),8)\n",
    "    return frameOpencv,faceBoxes\n",
    "\n",
    "faceProto='opencv_face_detector.pbtxt'\n",
    "faceModel='opencv_face_detector_uint8.pb'\n",
    "ageProto='age_deploy.prototxt'\n",
    "ageModel='age_net.caffemodel'\n",
    "genderProto='gender_deploy.prototxt'\n",
    "genderModel='gender_net.caffemodel'\n",
    "\n",
    "genderList=['Male','Female']\n",
    "ageList=['(0-2)','(4-6)','(8-12)','(15-20)','(25-32)','(38-43)','(48-53)','(60-100)']\n",
    "\n",
    "faceNet=cv2.dnn.readNet(faceModel,faceProto)\n",
    "ageNet=cv2.dnn.readNet(ageModel,ageProto)\n",
    "genderNet=cv2.dnn.readNet(genderModel,genderProto)\n",
    "\n",
    "video=cv2.VideoCapture(0)\n",
    "padding=20\n",
    "while cv2.waitKey(1)<0:\n",
    "    hasFrame, frame = video.read()\n",
    "    if not hasFrame:\n",
    "        cv2.waitKey()\n",
    "        break\n",
    "\n",
    "    resultImage,faceboxes = detectFace(faceNet,frame)\n",
    "\n",
    "    if not faceboxes:\n",
    "        print(\"No Face Detected\")\n",
    "        \n",
    "    for facebox in faceboxes:\n",
    "        face=frame[max(0,facebox[1]-padding):min(facebox[3]+padding,frame.shape[0]-1),max(0,facebox[0]-padding):min(facebox[2]+padding,frame.shape[1]-1)]\n",
    "        blob = cv2.dnn.blobFromImage(face,1.0,(227,227),[124.96,115.97,106.13],swapRB=True,crop=False)\n",
    "        genderNet.setInput(blob)\n",
    "        genderPrediction = genderNet.forward()\n",
    "        gender = genderList[genderPrediction[0].argmax()]\n",
    "    \n",
    "        ageNet.setInput(blob)\n",
    "        agePrediction = ageNet.forward()\n",
    "        age = ageList[agePrediction[0].argmax()]\n",
    "        \n",
    "        cv2.putText(resultImage,f'{gender},{age}',(facebox[0],facebox[1]-10),cv2.FONT_HERSHEY_SIMPLEX,0.8,(0,255,255),2,cv2.LINE_AA)\n",
    "        cv2.imshow(\"Predicting the Age and Gender...\",resultImage)\n",
    "        \n",
    "        if cv2.waitKey(33) & 0xFF == ord('q'):\n",
    "            break\n",
    "\n",
    "cv2.destroyAllWindows()\n",
    "\n"
   ]
  },
  {
   "cell_type": "code",
   "execution_count": null,
   "metadata": {},
   "outputs": [],
   "source": []
  },
  {
   "cell_type": "code",
   "execution_count": null,
   "metadata": {},
   "outputs": [],
   "source": []
  }
 ],
 "metadata": {
  "kernelspec": {
   "display_name": "Python 3",
   "language": "python",
   "name": "python3"
  },
  "language_info": {
   "codemirror_mode": {
    "name": "ipython",
    "version": 3
   },
   "file_extension": ".py",
   "mimetype": "text/x-python",
   "name": "python",
   "nbconvert_exporter": "python",
   "pygments_lexer": "ipython3",
   "version": "3.8.5"
  }
 },
 "nbformat": 4,
 "nbformat_minor": 4
}
